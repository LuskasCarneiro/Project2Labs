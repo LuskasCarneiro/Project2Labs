{
 "cells": [
  {
   "cell_type": "code",
   "execution_count": 9,
   "metadata": {},
   "outputs": [],
   "source": [
    "import socket\n",
    "from Attax import *\n",
    "from interface import *"
   ]
  },
  {
   "cell_type": "code",
   "execution_count": 10,
   "metadata": {},
   "outputs": [
    {
     "name": "stdout",
     "output_type": "stream",
     "text": [
      "Waiting for two agents to connect...\n",
      "Agent 1 connected from ('192.168.1.79', 52018)\n",
      "Server Receive: MOVE 4,1\n"
     ]
    }
   ],
   "source": [
    "#start server\n",
    "#accept only 2 connections to server\n",
    "def start_server(HOST,PORT):\n",
    "    server = socket.socket(socket.AF_INET, socket.SOCK_STREAM)\n",
    "    server.bind((HOST, PORT))\n",
    "    server.listen()\n",
    "\n",
    "    print(\"Waiting for two agents to connect...\")\n",
    "    '''1ª conexao'''\n",
    "    j1, add1 = server.accept()\n",
    "    print(\"Agent 1 connected from\", add1)\n",
    "\n",
    "    command = j1.recv(1024).decode()\n",
    "    print(f\"Server Receive: {command}\")\n",
    "\n",
    "    '''2ª conexao'''\n",
    "    '''\n",
    "    j2, add2 = server.accept()\n",
    "    print(\"Agent 2 connected from\", add2)\n",
    "\n",
    "    movex2 = j2.recv(1024).decode()\n",
    "    movey2 = j2.recv(1024).decode()\n",
    "    print(f\"Server Receive: MOVE {movex2},{movey2}\")\n",
    "    '''\n",
    "\n",
    "start_server(HOST='', PORT=9999)"
   ]
  }
 ],
 "metadata": {
  "kernelspec": {
   "display_name": "Python 3",
   "language": "python",
   "name": "python3"
  },
  "language_info": {
   "codemirror_mode": {
    "name": "ipython",
    "version": 3
   },
   "file_extension": ".py",
   "mimetype": "text/x-python",
   "name": "python",
   "nbconvert_exporter": "python",
   "pygments_lexer": "ipython3",
   "version": "3.11.5"
  }
 },
 "nbformat": 4,
 "nbformat_minor": 2
}
